{
  "nbformat": 4,
  "nbformat_minor": 0,
  "metadata": {
    "colab": {
      "provenance": [],
      "authorship_tag": "ABX9TyPABqs/ZlgrfumVDNMgro2N",
      "include_colab_link": true
    },
    "kernelspec": {
      "name": "python3",
      "display_name": "Python 3"
    },
    "language_info": {
      "name": "python"
    }
  },
  "cells": [
    {
      "cell_type": "markdown",
      "metadata": {
        "id": "view-in-github",
        "colab_type": "text"
      },
      "source": [
        "<a href=\"https://colab.research.google.com/github/Mrshreesharma/Churn_pred_using_ANN/blob/main/Churn_prediction_using_ANN.ipynb\" target=\"_parent\"><img src=\"https://colab.research.google.com/assets/colab-badge.svg\" alt=\"Open In Colab\"/></a>"
      ]
    },
    {
      "cell_type": "code",
      "source": [
        "#!pip install tensorflow==2.12.0\n",
        "\n"
      ],
      "metadata": {
        "id": "NgYu6jyUpJ0T"
      },
      "execution_count": 27,
      "outputs": []
    },
    {
      "cell_type": "code",
      "source": [
        "\n",
        "import tensorflow as tf\n",
        "print(tf.__version__)"
      ],
      "metadata": {
        "colab": {
          "base_uri": "https://localhost:8080/"
        },
        "id": "Rr0o-iYRplhB",
        "outputId": "5f0c2dc4-d310-48b4-c6ef-ce7444f61dfc"
      },
      "execution_count": 28,
      "outputs": [
        {
          "output_type": "stream",
          "name": "stdout",
          "text": [
            "2.18.0\n"
          ]
        }
      ]
    },
    {
      "cell_type": "code",
      "source": [
        "# import basic libraries\n",
        "import numpy as np\n",
        "import pandas as pd\n",
        "import matplotlib.pyplot as plt\n",
        "import seaborn as sns"
      ],
      "metadata": {
        "id": "vOuTD00LqBKC"
      },
      "execution_count": 29,
      "outputs": []
    },
    {
      "cell_type": "code",
      "source": [
        "dataset = pd.read_csv('Churn_Modelling.csv')\n",
        "dataset.head()"
      ],
      "metadata": {
        "colab": {
          "base_uri": "https://localhost:8080/",
          "height": 206
        },
        "id": "HpgW1vmjqUDC",
        "outputId": "fafec150-7215-425b-bb3e-7a740f083554"
      },
      "execution_count": 30,
      "outputs": [
        {
          "output_type": "execute_result",
          "data": {
            "text/plain": [
              "   RowNumber  CustomerId   Surname  CreditScore Geography  Gender  Age  \\\n",
              "0          1    15634602  Hargrave          619    France  Female   42   \n",
              "1          2    15647311      Hill          608     Spain  Female   41   \n",
              "2          3    15619304      Onio          502    France  Female   42   \n",
              "3          4    15701354      Boni          699    France  Female   39   \n",
              "4          5    15737888  Mitchell          850     Spain  Female   43   \n",
              "\n",
              "   Tenure    Balance  NumOfProducts  HasCrCard  IsActiveMember  \\\n",
              "0       2       0.00              1          1               1   \n",
              "1       1   83807.86              1          0               1   \n",
              "2       8  159660.80              3          1               0   \n",
              "3       1       0.00              2          0               0   \n",
              "4       2  125510.82              1          1               1   \n",
              "\n",
              "   EstimatedSalary  Exited  \n",
              "0        101348.88       1  \n",
              "1        112542.58       0  \n",
              "2        113931.57       1  \n",
              "3         93826.63       0  \n",
              "4         79084.10       0  "
            ],
            "text/html": [
              "\n",
              "  <div id=\"df-a2e07ba1-e4ac-47e4-ae24-75a27dba027b\" class=\"colab-df-container\">\n",
              "    <div>\n",
              "<style scoped>\n",
              "    .dataframe tbody tr th:only-of-type {\n",
              "        vertical-align: middle;\n",
              "    }\n",
              "\n",
              "    .dataframe tbody tr th {\n",
              "        vertical-align: top;\n",
              "    }\n",
              "\n",
              "    .dataframe thead th {\n",
              "        text-align: right;\n",
              "    }\n",
              "</style>\n",
              "<table border=\"1\" class=\"dataframe\">\n",
              "  <thead>\n",
              "    <tr style=\"text-align: right;\">\n",
              "      <th></th>\n",
              "      <th>RowNumber</th>\n",
              "      <th>CustomerId</th>\n",
              "      <th>Surname</th>\n",
              "      <th>CreditScore</th>\n",
              "      <th>Geography</th>\n",
              "      <th>Gender</th>\n",
              "      <th>Age</th>\n",
              "      <th>Tenure</th>\n",
              "      <th>Balance</th>\n",
              "      <th>NumOfProducts</th>\n",
              "      <th>HasCrCard</th>\n",
              "      <th>IsActiveMember</th>\n",
              "      <th>EstimatedSalary</th>\n",
              "      <th>Exited</th>\n",
              "    </tr>\n",
              "  </thead>\n",
              "  <tbody>\n",
              "    <tr>\n",
              "      <th>0</th>\n",
              "      <td>1</td>\n",
              "      <td>15634602</td>\n",
              "      <td>Hargrave</td>\n",
              "      <td>619</td>\n",
              "      <td>France</td>\n",
              "      <td>Female</td>\n",
              "      <td>42</td>\n",
              "      <td>2</td>\n",
              "      <td>0.00</td>\n",
              "      <td>1</td>\n",
              "      <td>1</td>\n",
              "      <td>1</td>\n",
              "      <td>101348.88</td>\n",
              "      <td>1</td>\n",
              "    </tr>\n",
              "    <tr>\n",
              "      <th>1</th>\n",
              "      <td>2</td>\n",
              "      <td>15647311</td>\n",
              "      <td>Hill</td>\n",
              "      <td>608</td>\n",
              "      <td>Spain</td>\n",
              "      <td>Female</td>\n",
              "      <td>41</td>\n",
              "      <td>1</td>\n",
              "      <td>83807.86</td>\n",
              "      <td>1</td>\n",
              "      <td>0</td>\n",
              "      <td>1</td>\n",
              "      <td>112542.58</td>\n",
              "      <td>0</td>\n",
              "    </tr>\n",
              "    <tr>\n",
              "      <th>2</th>\n",
              "      <td>3</td>\n",
              "      <td>15619304</td>\n",
              "      <td>Onio</td>\n",
              "      <td>502</td>\n",
              "      <td>France</td>\n",
              "      <td>Female</td>\n",
              "      <td>42</td>\n",
              "      <td>8</td>\n",
              "      <td>159660.80</td>\n",
              "      <td>3</td>\n",
              "      <td>1</td>\n",
              "      <td>0</td>\n",
              "      <td>113931.57</td>\n",
              "      <td>1</td>\n",
              "    </tr>\n",
              "    <tr>\n",
              "      <th>3</th>\n",
              "      <td>4</td>\n",
              "      <td>15701354</td>\n",
              "      <td>Boni</td>\n",
              "      <td>699</td>\n",
              "      <td>France</td>\n",
              "      <td>Female</td>\n",
              "      <td>39</td>\n",
              "      <td>1</td>\n",
              "      <td>0.00</td>\n",
              "      <td>2</td>\n",
              "      <td>0</td>\n",
              "      <td>0</td>\n",
              "      <td>93826.63</td>\n",
              "      <td>0</td>\n",
              "    </tr>\n",
              "    <tr>\n",
              "      <th>4</th>\n",
              "      <td>5</td>\n",
              "      <td>15737888</td>\n",
              "      <td>Mitchell</td>\n",
              "      <td>850</td>\n",
              "      <td>Spain</td>\n",
              "      <td>Female</td>\n",
              "      <td>43</td>\n",
              "      <td>2</td>\n",
              "      <td>125510.82</td>\n",
              "      <td>1</td>\n",
              "      <td>1</td>\n",
              "      <td>1</td>\n",
              "      <td>79084.10</td>\n",
              "      <td>0</td>\n",
              "    </tr>\n",
              "  </tbody>\n",
              "</table>\n",
              "</div>\n",
              "    <div class=\"colab-df-buttons\">\n",
              "\n",
              "  <div class=\"colab-df-container\">\n",
              "    <button class=\"colab-df-convert\" onclick=\"convertToInteractive('df-a2e07ba1-e4ac-47e4-ae24-75a27dba027b')\"\n",
              "            title=\"Convert this dataframe to an interactive table.\"\n",
              "            style=\"display:none;\">\n",
              "\n",
              "  <svg xmlns=\"http://www.w3.org/2000/svg\" height=\"24px\" viewBox=\"0 -960 960 960\">\n",
              "    <path d=\"M120-120v-720h720v720H120Zm60-500h600v-160H180v160Zm220 220h160v-160H400v160Zm0 220h160v-160H400v160ZM180-400h160v-160H180v160Zm440 0h160v-160H620v160ZM180-180h160v-160H180v160Zm440 0h160v-160H620v160Z\"/>\n",
              "  </svg>\n",
              "    </button>\n",
              "\n",
              "  <style>\n",
              "    .colab-df-container {\n",
              "      display:flex;\n",
              "      gap: 12px;\n",
              "    }\n",
              "\n",
              "    .colab-df-convert {\n",
              "      background-color: #E8F0FE;\n",
              "      border: none;\n",
              "      border-radius: 50%;\n",
              "      cursor: pointer;\n",
              "      display: none;\n",
              "      fill: #1967D2;\n",
              "      height: 32px;\n",
              "      padding: 0 0 0 0;\n",
              "      width: 32px;\n",
              "    }\n",
              "\n",
              "    .colab-df-convert:hover {\n",
              "      background-color: #E2EBFA;\n",
              "      box-shadow: 0px 1px 2px rgba(60, 64, 67, 0.3), 0px 1px 3px 1px rgba(60, 64, 67, 0.15);\n",
              "      fill: #174EA6;\n",
              "    }\n",
              "\n",
              "    .colab-df-buttons div {\n",
              "      margin-bottom: 4px;\n",
              "    }\n",
              "\n",
              "    [theme=dark] .colab-df-convert {\n",
              "      background-color: #3B4455;\n",
              "      fill: #D2E3FC;\n",
              "    }\n",
              "\n",
              "    [theme=dark] .colab-df-convert:hover {\n",
              "      background-color: #434B5C;\n",
              "      box-shadow: 0px 1px 3px 1px rgba(0, 0, 0, 0.15);\n",
              "      filter: drop-shadow(0px 1px 2px rgba(0, 0, 0, 0.3));\n",
              "      fill: #FFFFFF;\n",
              "    }\n",
              "  </style>\n",
              "\n",
              "    <script>\n",
              "      const buttonEl =\n",
              "        document.querySelector('#df-a2e07ba1-e4ac-47e4-ae24-75a27dba027b button.colab-df-convert');\n",
              "      buttonEl.style.display =\n",
              "        google.colab.kernel.accessAllowed ? 'block' : 'none';\n",
              "\n",
              "      async function convertToInteractive(key) {\n",
              "        const element = document.querySelector('#df-a2e07ba1-e4ac-47e4-ae24-75a27dba027b');\n",
              "        const dataTable =\n",
              "          await google.colab.kernel.invokeFunction('convertToInteractive',\n",
              "                                                    [key], {});\n",
              "        if (!dataTable) return;\n",
              "\n",
              "        const docLinkHtml = 'Like what you see? Visit the ' +\n",
              "          '<a target=\"_blank\" href=https://colab.research.google.com/notebooks/data_table.ipynb>data table notebook</a>'\n",
              "          + ' to learn more about interactive tables.';\n",
              "        element.innerHTML = '';\n",
              "        dataTable['output_type'] = 'display_data';\n",
              "        await google.colab.output.renderOutput(dataTable, element);\n",
              "        const docLink = document.createElement('div');\n",
              "        docLink.innerHTML = docLinkHtml;\n",
              "        element.appendChild(docLink);\n",
              "      }\n",
              "    </script>\n",
              "  </div>\n",
              "\n",
              "\n",
              "    <div id=\"df-6ddf7a8c-30f9-4fb9-82ef-f178f573754e\">\n",
              "      <button class=\"colab-df-quickchart\" onclick=\"quickchart('df-6ddf7a8c-30f9-4fb9-82ef-f178f573754e')\"\n",
              "                title=\"Suggest charts\"\n",
              "                style=\"display:none;\">\n",
              "\n",
              "<svg xmlns=\"http://www.w3.org/2000/svg\" height=\"24px\"viewBox=\"0 0 24 24\"\n",
              "     width=\"24px\">\n",
              "    <g>\n",
              "        <path d=\"M19 3H5c-1.1 0-2 .9-2 2v14c0 1.1.9 2 2 2h14c1.1 0 2-.9 2-2V5c0-1.1-.9-2-2-2zM9 17H7v-7h2v7zm4 0h-2V7h2v10zm4 0h-2v-4h2v4z\"/>\n",
              "    </g>\n",
              "</svg>\n",
              "      </button>\n",
              "\n",
              "<style>\n",
              "  .colab-df-quickchart {\n",
              "      --bg-color: #E8F0FE;\n",
              "      --fill-color: #1967D2;\n",
              "      --hover-bg-color: #E2EBFA;\n",
              "      --hover-fill-color: #174EA6;\n",
              "      --disabled-fill-color: #AAA;\n",
              "      --disabled-bg-color: #DDD;\n",
              "  }\n",
              "\n",
              "  [theme=dark] .colab-df-quickchart {\n",
              "      --bg-color: #3B4455;\n",
              "      --fill-color: #D2E3FC;\n",
              "      --hover-bg-color: #434B5C;\n",
              "      --hover-fill-color: #FFFFFF;\n",
              "      --disabled-bg-color: #3B4455;\n",
              "      --disabled-fill-color: #666;\n",
              "  }\n",
              "\n",
              "  .colab-df-quickchart {\n",
              "    background-color: var(--bg-color);\n",
              "    border: none;\n",
              "    border-radius: 50%;\n",
              "    cursor: pointer;\n",
              "    display: none;\n",
              "    fill: var(--fill-color);\n",
              "    height: 32px;\n",
              "    padding: 0;\n",
              "    width: 32px;\n",
              "  }\n",
              "\n",
              "  .colab-df-quickchart:hover {\n",
              "    background-color: var(--hover-bg-color);\n",
              "    box-shadow: 0 1px 2px rgba(60, 64, 67, 0.3), 0 1px 3px 1px rgba(60, 64, 67, 0.15);\n",
              "    fill: var(--button-hover-fill-color);\n",
              "  }\n",
              "\n",
              "  .colab-df-quickchart-complete:disabled,\n",
              "  .colab-df-quickchart-complete:disabled:hover {\n",
              "    background-color: var(--disabled-bg-color);\n",
              "    fill: var(--disabled-fill-color);\n",
              "    box-shadow: none;\n",
              "  }\n",
              "\n",
              "  .colab-df-spinner {\n",
              "    border: 2px solid var(--fill-color);\n",
              "    border-color: transparent;\n",
              "    border-bottom-color: var(--fill-color);\n",
              "    animation:\n",
              "      spin 1s steps(1) infinite;\n",
              "  }\n",
              "\n",
              "  @keyframes spin {\n",
              "    0% {\n",
              "      border-color: transparent;\n",
              "      border-bottom-color: var(--fill-color);\n",
              "      border-left-color: var(--fill-color);\n",
              "    }\n",
              "    20% {\n",
              "      border-color: transparent;\n",
              "      border-left-color: var(--fill-color);\n",
              "      border-top-color: var(--fill-color);\n",
              "    }\n",
              "    30% {\n",
              "      border-color: transparent;\n",
              "      border-left-color: var(--fill-color);\n",
              "      border-top-color: var(--fill-color);\n",
              "      border-right-color: var(--fill-color);\n",
              "    }\n",
              "    40% {\n",
              "      border-color: transparent;\n",
              "      border-right-color: var(--fill-color);\n",
              "      border-top-color: var(--fill-color);\n",
              "    }\n",
              "    60% {\n",
              "      border-color: transparent;\n",
              "      border-right-color: var(--fill-color);\n",
              "    }\n",
              "    80% {\n",
              "      border-color: transparent;\n",
              "      border-right-color: var(--fill-color);\n",
              "      border-bottom-color: var(--fill-color);\n",
              "    }\n",
              "    90% {\n",
              "      border-color: transparent;\n",
              "      border-bottom-color: var(--fill-color);\n",
              "    }\n",
              "  }\n",
              "</style>\n",
              "\n",
              "      <script>\n",
              "        async function quickchart(key) {\n",
              "          const quickchartButtonEl =\n",
              "            document.querySelector('#' + key + ' button');\n",
              "          quickchartButtonEl.disabled = true;  // To prevent multiple clicks.\n",
              "          quickchartButtonEl.classList.add('colab-df-spinner');\n",
              "          try {\n",
              "            const charts = await google.colab.kernel.invokeFunction(\n",
              "                'suggestCharts', [key], {});\n",
              "          } catch (error) {\n",
              "            console.error('Error during call to suggestCharts:', error);\n",
              "          }\n",
              "          quickchartButtonEl.classList.remove('colab-df-spinner');\n",
              "          quickchartButtonEl.classList.add('colab-df-quickchart-complete');\n",
              "        }\n",
              "        (() => {\n",
              "          let quickchartButtonEl =\n",
              "            document.querySelector('#df-6ddf7a8c-30f9-4fb9-82ef-f178f573754e button');\n",
              "          quickchartButtonEl.style.display =\n",
              "            google.colab.kernel.accessAllowed ? 'block' : 'none';\n",
              "        })();\n",
              "      </script>\n",
              "    </div>\n",
              "\n",
              "    </div>\n",
              "  </div>\n"
            ],
            "application/vnd.google.colaboratory.intrinsic+json": {
              "type": "dataframe",
              "variable_name": "dataset",
              "summary": "{\n  \"name\": \"dataset\",\n  \"rows\": 10000,\n  \"fields\": [\n    {\n      \"column\": \"RowNumber\",\n      \"properties\": {\n        \"dtype\": \"number\",\n        \"std\": 2886,\n        \"min\": 1,\n        \"max\": 10000,\n        \"num_unique_values\": 10000,\n        \"samples\": [\n          6253,\n          4685,\n          1732\n        ],\n        \"semantic_type\": \"\",\n        \"description\": \"\"\n      }\n    },\n    {\n      \"column\": \"CustomerId\",\n      \"properties\": {\n        \"dtype\": \"number\",\n        \"std\": 71936,\n        \"min\": 15565701,\n        \"max\": 15815690,\n        \"num_unique_values\": 10000,\n        \"samples\": [\n          15687492,\n          15736963,\n          15721730\n        ],\n        \"semantic_type\": \"\",\n        \"description\": \"\"\n      }\n    },\n    {\n      \"column\": \"Surname\",\n      \"properties\": {\n        \"dtype\": \"category\",\n        \"num_unique_values\": 2932,\n        \"samples\": [\n          \"McGuirk\",\n          \"Torkelson\",\n          \"Rapuluchukwu\"\n        ],\n        \"semantic_type\": \"\",\n        \"description\": \"\"\n      }\n    },\n    {\n      \"column\": \"CreditScore\",\n      \"properties\": {\n        \"dtype\": \"number\",\n        \"std\": 96,\n        \"min\": 350,\n        \"max\": 850,\n        \"num_unique_values\": 460,\n        \"samples\": [\n          754,\n          533,\n          744\n        ],\n        \"semantic_type\": \"\",\n        \"description\": \"\"\n      }\n    },\n    {\n      \"column\": \"Geography\",\n      \"properties\": {\n        \"dtype\": \"category\",\n        \"num_unique_values\": 3,\n        \"samples\": [\n          \"France\",\n          \"Spain\",\n          \"Germany\"\n        ],\n        \"semantic_type\": \"\",\n        \"description\": \"\"\n      }\n    },\n    {\n      \"column\": \"Gender\",\n      \"properties\": {\n        \"dtype\": \"category\",\n        \"num_unique_values\": 2,\n        \"samples\": [\n          \"Male\",\n          \"Female\"\n        ],\n        \"semantic_type\": \"\",\n        \"description\": \"\"\n      }\n    },\n    {\n      \"column\": \"Age\",\n      \"properties\": {\n        \"dtype\": \"number\",\n        \"std\": 10,\n        \"min\": 18,\n        \"max\": 92,\n        \"num_unique_values\": 70,\n        \"samples\": [\n          61,\n          42\n        ],\n        \"semantic_type\": \"\",\n        \"description\": \"\"\n      }\n    },\n    {\n      \"column\": \"Tenure\",\n      \"properties\": {\n        \"dtype\": \"number\",\n        \"std\": 2,\n        \"min\": 0,\n        \"max\": 10,\n        \"num_unique_values\": 11,\n        \"samples\": [\n          6,\n          2\n        ],\n        \"semantic_type\": \"\",\n        \"description\": \"\"\n      }\n    },\n    {\n      \"column\": \"Balance\",\n      \"properties\": {\n        \"dtype\": \"number\",\n        \"std\": 62397.40520238623,\n        \"min\": 0.0,\n        \"max\": 250898.09,\n        \"num_unique_values\": 6382,\n        \"samples\": [\n          117707.18,\n          133050.97\n        ],\n        \"semantic_type\": \"\",\n        \"description\": \"\"\n      }\n    },\n    {\n      \"column\": \"NumOfProducts\",\n      \"properties\": {\n        \"dtype\": \"number\",\n        \"std\": 0,\n        \"min\": 1,\n        \"max\": 4,\n        \"num_unique_values\": 4,\n        \"samples\": [\n          3,\n          4\n        ],\n        \"semantic_type\": \"\",\n        \"description\": \"\"\n      }\n    },\n    {\n      \"column\": \"HasCrCard\",\n      \"properties\": {\n        \"dtype\": \"number\",\n        \"std\": 0,\n        \"min\": 0,\n        \"max\": 1,\n        \"num_unique_values\": 2,\n        \"samples\": [\n          0,\n          1\n        ],\n        \"semantic_type\": \"\",\n        \"description\": \"\"\n      }\n    },\n    {\n      \"column\": \"IsActiveMember\",\n      \"properties\": {\n        \"dtype\": \"number\",\n        \"std\": 0,\n        \"min\": 0,\n        \"max\": 1,\n        \"num_unique_values\": 2,\n        \"samples\": [\n          0,\n          1\n        ],\n        \"semantic_type\": \"\",\n        \"description\": \"\"\n      }\n    },\n    {\n      \"column\": \"EstimatedSalary\",\n      \"properties\": {\n        \"dtype\": \"number\",\n        \"std\": 57510.49281769822,\n        \"min\": 11.58,\n        \"max\": 199992.48,\n        \"num_unique_values\": 9999,\n        \"samples\": [\n          100809.99,\n          95273.73\n        ],\n        \"semantic_type\": \"\",\n        \"description\": \"\"\n      }\n    },\n    {\n      \"column\": \"Exited\",\n      \"properties\": {\n        \"dtype\": \"number\",\n        \"std\": 0,\n        \"min\": 0,\n        \"max\": 1,\n        \"num_unique_values\": 2,\n        \"samples\": [\n          0,\n          1\n        ],\n        \"semantic_type\": \"\",\n        \"description\": \"\"\n      }\n    }\n  ]\n}"
            }
          },
          "metadata": {},
          "execution_count": 30
        }
      ]
    },
    {
      "cell_type": "code",
      "source": [
        "## divide the dataset into independent and dependent feature.\n",
        "\n",
        "X = dataset.iloc[:,3:13]\n",
        "y = dataset.iloc[:,13]"
      ],
      "metadata": {
        "id": "vkNNM4eUqYjg"
      },
      "execution_count": 31,
      "outputs": []
    },
    {
      "cell_type": "code",
      "source": [
        "## Feature Engineering\n",
        "geography = pd.get_dummies(X['Geography'],drop_first=True)\n",
        "gender = pd.get_dummies(X['Gender'],drop_first=True)"
      ],
      "metadata": {
        "id": "f-X6t_9TrINi"
      },
      "execution_count": 32,
      "outputs": []
    },
    {
      "cell_type": "code",
      "source": [
        "## Drop the encoded features\n",
        "X.drop(['Geography','Gender'],axis=1,inplace=True)"
      ],
      "metadata": {
        "id": "6tChkSW4uxm7"
      },
      "execution_count": 33,
      "outputs": []
    },
    {
      "cell_type": "code",
      "source": [
        "X = pd.concat([X,geography,gender],axis = 1)"
      ],
      "metadata": {
        "id": "aB8ShhpLvnap"
      },
      "execution_count": 34,
      "outputs": []
    },
    {
      "cell_type": "code",
      "source": [
        "# Splitting the dataset into training set and test set\n",
        "\n",
        "from sklearn.model_selection import train_test_split\n",
        "X_train,X_test,y_train,y_test = train_test_split(X,y,test_size=0.2,random_state=0)\n"
      ],
      "metadata": {
        "id": "ewPmaZKdv_U6"
      },
      "execution_count": 35,
      "outputs": []
    },
    {
      "cell_type": "code",
      "source": [
        "# feature scaling\n",
        "\n",
        "from sklearn.preprocessing import StandardScaler\n",
        "sc = StandardScaler()\n",
        "X_train = sc.fit_transform(X_train)\n",
        "X_test = sc.transform(X_test)"
      ],
      "metadata": {
        "id": "uZQ6XvI_wX-p"
      },
      "execution_count": 36,
      "outputs": []
    },
    {
      "cell_type": "code",
      "source": [
        "X_train.shape"
      ],
      "metadata": {
        "colab": {
          "base_uri": "https://localhost:8080/"
        },
        "id": "2asLOxYHx6Jw",
        "outputId": "d6bd26f5-7bb1-46e6-8635-c62f57471596"
      },
      "execution_count": 37,
      "outputs": [
        {
          "output_type": "execute_result",
          "data": {
            "text/plain": [
              "(8000, 11)"
            ]
          },
          "metadata": {},
          "execution_count": 37
        }
      ]
    },
    {
      "cell_type": "code",
      "source": [
        "from tensorflow.keras.models import Sequential\n",
        "from tensorflow.keras.layers import Dense\n",
        "from tensorflow.keras.layers import LeakyReLU,PReLU,ELU,ReLU\n",
        "from tensorflow.keras.layers import Dropout"
      ],
      "metadata": {
        "id": "JI-kd1A-yGJp"
      },
      "execution_count": 38,
      "outputs": []
    },
    {
      "cell_type": "code",
      "source": [
        "# Intializing the ANN\n",
        "\n",
        "classifier = Sequential()"
      ],
      "metadata": {
        "id": "E7AFUU8OQ3iw"
      },
      "execution_count": 39,
      "outputs": []
    },
    {
      "cell_type": "code",
      "source": [
        "## Adding the Input Layer\n",
        "classifier.add(Dense(units=10,activation='relu'))"
      ],
      "metadata": {
        "id": "YIBf3VRrQ3V1"
      },
      "execution_count": 41,
      "outputs": []
    },
    {
      "cell_type": "code",
      "source": [
        "# Adding the First Hidden Layer\n",
        "classifier.add(Dense(units=7,activation='relu'))\n",
        "\n",
        "# Adding the Second Hidden Layer\n",
        "classifier.add(Dense(units=6,activation='relu'))\n",
        "\n",
        "# Adding the Output Layer\n",
        "classifier.add(Dense(units=1,activation='sigmoid'))"
      ],
      "metadata": {
        "id": "UB-zrb0vqTp2"
      },
      "execution_count": 75,
      "outputs": []
    },
    {
      "cell_type": "code",
      "source": [
        "## updating the learning rate\n",
        "opt = tf.keras.optimizers.Adam(learning_rate=0.01)\n",
        "\n",
        "## Compiling the model.\n",
        "classifier.compile(optimizer = opt,loss='binary_crossentropy',metrics=['accuracy'])\n",
        "\n"
      ],
      "metadata": {
        "id": "gQCsiBcVqeYd"
      },
      "execution_count": 76,
      "outputs": []
    },
    {
      "cell_type": "code",
      "source": [
        "# Early Stopping\n",
        "\n",
        "early_stop_var = tf.keras.callbacks.EarlyStopping(\n",
        "    monitor=\"val_loss\",\n",
        "    min_delta=0.0001,\n",
        "    patience=20,\n",
        "    verbose=1,\n",
        "    mode=\"auto\",\n",
        "    baseline=None,\n",
        "    restore_best_weights=False,\n",
        ")"
      ],
      "metadata": {
        "id": "JOx8QrNhs0UE"
      },
      "execution_count": 77,
      "outputs": []
    },
    {
      "cell_type": "code",
      "source": [
        "model_history = classifier.fit(X_train,y_train,validation_split=0.33,batch_size=10,epochs=1000,callbacks=early_stop_var)"
      ],
      "metadata": {
        "colab": {
          "base_uri": "https://localhost:8080/"
        },
        "id": "Hj48dcJnqeR1",
        "outputId": "f474661f-3b57-4cb2-c7b5-0279c978955e"
      },
      "execution_count": 78,
      "outputs": [
        {
          "output_type": "stream",
          "name": "stdout",
          "text": [
            "Epoch 1/1000\n",
            "\u001b[1m536/536\u001b[0m \u001b[32m━━━━━━━━━━━━━━━━━━━━\u001b[0m\u001b[37m\u001b[0m \u001b[1m10s\u001b[0m 6ms/step - accuracy: 0.7870 - loss: 0.5387 - val_accuracy: 0.7955 - val_loss: 0.5073\n",
            "Epoch 2/1000\n",
            "\u001b[1m536/536\u001b[0m \u001b[32m━━━━━━━━━━━━━━━━━━━━\u001b[0m\u001b[37m\u001b[0m \u001b[1m6s\u001b[0m 8ms/step - accuracy: 0.7843 - loss: 0.5233 - val_accuracy: 0.7955 - val_loss: 0.5079\n",
            "Epoch 3/1000\n",
            "\u001b[1m536/536\u001b[0m \u001b[32m━━━━━━━━━━━━━━━━━━━━\u001b[0m\u001b[37m\u001b[0m \u001b[1m5s\u001b[0m 9ms/step - accuracy: 0.8118 - loss: 0.4839 - val_accuracy: 0.7955 - val_loss: 0.5068\n",
            "Epoch 4/1000\n",
            "\u001b[1m536/536\u001b[0m \u001b[32m━━━━━━━━━━━━━━━━━━━━\u001b[0m\u001b[37m\u001b[0m \u001b[1m5s\u001b[0m 8ms/step - accuracy: 0.7973 - loss: 0.5057 - val_accuracy: 0.7955 - val_loss: 0.5084\n",
            "Epoch 5/1000\n",
            "\u001b[1m536/536\u001b[0m \u001b[32m━━━━━━━━━━━━━━━━━━━━\u001b[0m\u001b[37m\u001b[0m \u001b[1m4s\u001b[0m 7ms/step - accuracy: 0.7931 - loss: 0.5107 - val_accuracy: 0.7955 - val_loss: 0.5077\n",
            "Epoch 6/1000\n",
            "\u001b[1m536/536\u001b[0m \u001b[32m━━━━━━━━━━━━━━━━━━━━\u001b[0m\u001b[37m\u001b[0m \u001b[1m3s\u001b[0m 5ms/step - accuracy: 0.7883 - loss: 0.5179 - val_accuracy: 0.7955 - val_loss: 0.5078\n",
            "Epoch 7/1000\n",
            "\u001b[1m536/536\u001b[0m \u001b[32m━━━━━━━━━━━━━━━━━━━━\u001b[0m\u001b[37m\u001b[0m \u001b[1m4s\u001b[0m 7ms/step - accuracy: 0.7957 - loss: 0.5088 - val_accuracy: 0.7955 - val_loss: 0.5068\n",
            "Epoch 8/1000\n",
            "\u001b[1m536/536\u001b[0m \u001b[32m━━━━━━━━━━━━━━━━━━━━\u001b[0m\u001b[37m\u001b[0m \u001b[1m6s\u001b[0m 8ms/step - accuracy: 0.7931 - loss: 0.5104 - val_accuracy: 0.7955 - val_loss: 0.5086\n",
            "Epoch 9/1000\n",
            "\u001b[1m536/536\u001b[0m \u001b[32m━━━━━━━━━━━━━━━━━━━━\u001b[0m\u001b[37m\u001b[0m \u001b[1m4s\u001b[0m 7ms/step - accuracy: 0.7875 - loss: 0.5181 - val_accuracy: 0.7955 - val_loss: 0.5150\n",
            "Epoch 10/1000\n",
            "\u001b[1m536/536\u001b[0m \u001b[32m━━━━━━━━━━━━━━━━━━━━\u001b[0m\u001b[37m\u001b[0m \u001b[1m3s\u001b[0m 6ms/step - accuracy: 0.8003 - loss: 0.5025 - val_accuracy: 0.7955 - val_loss: 0.5072\n",
            "Epoch 11/1000\n",
            "\u001b[1m536/536\u001b[0m \u001b[32m━━━━━━━━━━━━━━━━━━━━\u001b[0m\u001b[37m\u001b[0m \u001b[1m6s\u001b[0m 8ms/step - accuracy: 0.7887 - loss: 0.5171 - val_accuracy: 0.7955 - val_loss: 0.5066\n",
            "Epoch 12/1000\n",
            "\u001b[1m536/536\u001b[0m \u001b[32m━━━━━━━━━━━━━━━━━━━━\u001b[0m\u001b[37m\u001b[0m \u001b[1m4s\u001b[0m 7ms/step - accuracy: 0.7848 - loss: 0.5218 - val_accuracy: 0.7955 - val_loss: 0.5068\n",
            "Epoch 13/1000\n",
            "\u001b[1m536/536\u001b[0m \u001b[32m━━━━━━━━━━━━━━━━━━━━\u001b[0m\u001b[37m\u001b[0m \u001b[1m3s\u001b[0m 5ms/step - accuracy: 0.8023 - loss: 0.4986 - val_accuracy: 0.7955 - val_loss: 0.5069\n",
            "Epoch 14/1000\n",
            "\u001b[1m536/536\u001b[0m \u001b[32m━━━━━━━━━━━━━━━━━━━━\u001b[0m\u001b[37m\u001b[0m \u001b[1m6s\u001b[0m 8ms/step - accuracy: 0.7902 - loss: 0.5144 - val_accuracy: 0.7955 - val_loss: 0.5096\n",
            "Epoch 15/1000\n",
            "\u001b[1m536/536\u001b[0m \u001b[32m━━━━━━━━━━━━━━━━━━━━\u001b[0m\u001b[37m\u001b[0m \u001b[1m4s\u001b[0m 7ms/step - accuracy: 0.7868 - loss: 0.5189 - val_accuracy: 0.7955 - val_loss: 0.5066\n",
            "Epoch 16/1000\n",
            "\u001b[1m536/536\u001b[0m \u001b[32m━━━━━━━━━━━━━━━━━━━━\u001b[0m\u001b[37m\u001b[0m \u001b[1m3s\u001b[0m 6ms/step - accuracy: 0.7995 - loss: 0.5020 - val_accuracy: 0.7955 - val_loss: 0.5068\n",
            "Epoch 17/1000\n",
            "\u001b[1m536/536\u001b[0m \u001b[32m━━━━━━━━━━━━━━━━━━━━\u001b[0m\u001b[37m\u001b[0m \u001b[1m4s\u001b[0m 8ms/step - accuracy: 0.8015 - loss: 0.4993 - val_accuracy: 0.7955 - val_loss: 0.5068\n",
            "Epoch 18/1000\n",
            "\u001b[1m536/536\u001b[0m \u001b[32m━━━━━━━━━━━━━━━━━━━━\u001b[0m\u001b[37m\u001b[0m \u001b[1m4s\u001b[0m 6ms/step - accuracy: 0.7839 - loss: 0.5225 - val_accuracy: 0.7955 - val_loss: 0.5098\n",
            "Epoch 19/1000\n",
            "\u001b[1m536/536\u001b[0m \u001b[32m━━━━━━━━━━━━━━━━━━━━\u001b[0m\u001b[37m\u001b[0m \u001b[1m5s\u001b[0m 6ms/step - accuracy: 0.8034 - loss: 0.4960 - val_accuracy: 0.7955 - val_loss: 0.5065\n",
            "Epoch 20/1000\n",
            "\u001b[1m536/536\u001b[0m \u001b[32m━━━━━━━━━━━━━━━━━━━━\u001b[0m\u001b[37m\u001b[0m \u001b[1m4s\u001b[0m 8ms/step - accuracy: 0.7965 - loss: 0.5061 - val_accuracy: 0.7955 - val_loss: 0.5076\n",
            "Epoch 21/1000\n",
            "\u001b[1m536/536\u001b[0m \u001b[32m━━━━━━━━━━━━━━━━━━━━\u001b[0m\u001b[37m\u001b[0m \u001b[1m4s\u001b[0m 7ms/step - accuracy: 0.7903 - loss: 0.5147 - val_accuracy: 0.7955 - val_loss: 0.5075\n",
            "Epoch 22/1000\n",
            "\u001b[1m536/536\u001b[0m \u001b[32m━━━━━━━━━━━━━━━━━━━━\u001b[0m\u001b[37m\u001b[0m \u001b[1m4s\u001b[0m 7ms/step - accuracy: 0.7913 - loss: 0.5131 - val_accuracy: 0.7955 - val_loss: 0.5065\n",
            "Epoch 23/1000\n",
            "\u001b[1m536/536\u001b[0m \u001b[32m━━━━━━━━━━━━━━━━━━━━\u001b[0m\u001b[37m\u001b[0m \u001b[1m5s\u001b[0m 9ms/step - accuracy: 0.7925 - loss: 0.5111 - val_accuracy: 0.7955 - val_loss: 0.5068\n",
            "Epoch 24/1000\n",
            "\u001b[1m536/536\u001b[0m \u001b[32m━━━━━━━━━━━━━━━━━━━━\u001b[0m\u001b[37m\u001b[0m \u001b[1m3s\u001b[0m 6ms/step - accuracy: 0.7890 - loss: 0.5157 - val_accuracy: 0.7955 - val_loss: 0.5065\n",
            "Epoch 25/1000\n",
            "\u001b[1m536/536\u001b[0m \u001b[32m━━━━━━━━━━━━━━━━━━━━\u001b[0m\u001b[37m\u001b[0m \u001b[1m3s\u001b[0m 6ms/step - accuracy: 0.8021 - loss: 0.4982 - val_accuracy: 0.7955 - val_loss: 0.5070\n",
            "Epoch 26/1000\n",
            "\u001b[1m536/536\u001b[0m \u001b[32m━━━━━━━━━━━━━━━━━━━━\u001b[0m\u001b[37m\u001b[0m \u001b[1m3s\u001b[0m 6ms/step - accuracy: 0.7833 - loss: 0.5235 - val_accuracy: 0.7955 - val_loss: 0.5065\n",
            "Epoch 27/1000\n",
            "\u001b[1m536/536\u001b[0m \u001b[32m━━━━━━━━━━━━━━━━━━━━\u001b[0m\u001b[37m\u001b[0m \u001b[1m4s\u001b[0m 7ms/step - accuracy: 0.7982 - loss: 0.5034 - val_accuracy: 0.7955 - val_loss: 0.5065\n",
            "Epoch 28/1000\n",
            "\u001b[1m536/536\u001b[0m \u001b[32m━━━━━━━━━━━━━━━━━━━━\u001b[0m\u001b[37m\u001b[0m \u001b[1m3s\u001b[0m 5ms/step - accuracy: 0.7949 - loss: 0.5079 - val_accuracy: 0.7955 - val_loss: 0.5075\n",
            "Epoch 29/1000\n",
            "\u001b[1m536/536\u001b[0m \u001b[32m━━━━━━━━━━━━━━━━━━━━\u001b[0m\u001b[37m\u001b[0m \u001b[1m3s\u001b[0m 5ms/step - accuracy: 0.7935 - loss: 0.5102 - val_accuracy: 0.7955 - val_loss: 0.5075\n",
            "Epoch 30/1000\n",
            "\u001b[1m536/536\u001b[0m \u001b[32m━━━━━━━━━━━━━━━━━━━━\u001b[0m\u001b[37m\u001b[0m \u001b[1m7s\u001b[0m 9ms/step - accuracy: 0.7991 - loss: 0.5022 - val_accuracy: 0.7955 - val_loss: 0.5066\n",
            "Epoch 31/1000\n",
            "\u001b[1m536/536\u001b[0m \u001b[32m━━━━━━━━━━━━━━━━━━━━\u001b[0m\u001b[37m\u001b[0m \u001b[1m3s\u001b[0m 6ms/step - accuracy: 0.7928 - loss: 0.5100 - val_accuracy: 0.7955 - val_loss: 0.5079\n",
            "Epoch 31: early stopping\n"
          ]
        }
      ]
    },
    {
      "cell_type": "code",
      "source": [
        "model_history.history.keys()"
      ],
      "metadata": {
        "colab": {
          "base_uri": "https://localhost:8080/"
        },
        "id": "w_dpultQqeO4",
        "outputId": "61689a7e-ad3d-4065-a8db-3b421ab1daa5"
      },
      "execution_count": 79,
      "outputs": [
        {
          "output_type": "execute_result",
          "data": {
            "text/plain": [
              "dict_keys(['accuracy', 'loss', 'val_accuracy', 'val_loss'])"
            ]
          },
          "metadata": {},
          "execution_count": 79
        }
      ]
    },
    {
      "cell_type": "code",
      "source": [
        "## Predicting test results\n",
        "y_pred = classifier.predict(X_test)\n",
        "y_pred = (y_pred>=0.5)"
      ],
      "metadata": {
        "colab": {
          "base_uri": "https://localhost:8080/"
        },
        "id": "p6j3aJLxwBGt",
        "outputId": "be9166d0-c707-4b70-a315-54352f8d3803"
      },
      "execution_count": 80,
      "outputs": [
        {
          "output_type": "stream",
          "name": "stdout",
          "text": [
            "\u001b[1m63/63\u001b[0m \u001b[32m━━━━━━━━━━━━━━━━━━━━\u001b[0m\u001b[37m\u001b[0m \u001b[1m1s\u001b[0m 5ms/step\n"
          ]
        }
      ]
    },
    {
      "cell_type": "code",
      "source": [
        "from sklearn.metrics import confusion_matrix\n",
        "cm = confusion_matrix(y_test,y_pred)\n",
        "cm"
      ],
      "metadata": {
        "colab": {
          "base_uri": "https://localhost:8080/"
        },
        "id": "9yOIIOSPwXVp",
        "outputId": "b3b90aed-afc4-4365-97c1-21e8d8b85846"
      },
      "execution_count": 81,
      "outputs": [
        {
          "output_type": "execute_result",
          "data": {
            "text/plain": [
              "array([[1595,    0],\n",
              "       [ 405,    0]])"
            ]
          },
          "metadata": {},
          "execution_count": 81
        }
      ]
    },
    {
      "cell_type": "code",
      "source": [
        "## Calculating the accuracy score\n",
        "from sklearn.metrics import accuracy_score\n",
        "score = accuracy_score(y_pred,y_test)\n",
        "score"
      ],
      "metadata": {
        "colab": {
          "base_uri": "https://localhost:8080/"
        },
        "id": "wxkkFLU7waBI",
        "outputId": "3f0359e5-7571-47af-d1c1-21eebba1ce18"
      },
      "execution_count": 82,
      "outputs": [
        {
          "output_type": "execute_result",
          "data": {
            "text/plain": [
              "0.7975"
            ]
          },
          "metadata": {},
          "execution_count": 82
        }
      ]
    },
    {
      "cell_type": "code",
      "source": [
        "## Getting the weights\n",
        "classifier.get_weights()"
      ],
      "metadata": {
        "colab": {
          "base_uri": "https://localhost:8080/"
        },
        "id": "VmCYQuJKwibZ",
        "outputId": "7d59e5b2-0f4a-47cf-c0a2-a9dc5fbeafce"
      },
      "execution_count": 83,
      "outputs": [
        {
          "output_type": "execute_result",
          "data": {
            "text/plain": [
              "[array([[ 1.3889748e-01,  2.9469170e-02,  1.2693654e+00, -4.5790121e-01,\n",
              "          1.9151482e-01, -5.3332847e-01,  8.3724701e-01, -2.4681224e-01,\n",
              "         -1.6430926e-01,  7.2434366e-01],\n",
              "        [-2.6903899e+00,  2.2420496e-02, -3.7640510e+00,  2.7098212e+00,\n",
              "         -1.9743766e-01,  7.3620933e-01, -3.0558629e+00,  1.1383027e+00,\n",
              "          2.8176286e+00,  2.0731847e+00],\n",
              "        [ 6.9470465e-02,  3.7402101e-02,  6.1770153e-01, -1.1622563e-01,\n",
              "         -1.9488627e-02,  7.1634924e-01, -6.7458028e-01,  5.7934594e-01,\n",
              "         -8.3739954e-01,  3.8365063e-01],\n",
              "        [-1.0919074e+00, -1.6847862e-01, -6.7606407e-01,  7.3240739e-01,\n",
              "         -1.2911466e+00,  3.4771630e-01, -6.1485684e-01, -2.7910354e+00,\n",
              "         -1.2303630e+00, -7.4424553e-01],\n",
              "        [ 1.9483557e-01,  3.5678053e+00, -8.3330065e-01, -1.6115417e+00,\n",
              "          3.3465087e-01, -1.6422333e+00,  1.8847931e-02, -3.6351638e+00,\n",
              "         -5.2667898e-01,  1.2786583e+00],\n",
              "        [ 1.7943069e-01, -4.0475298e-02, -5.9452289e-01, -5.8109337e-01,\n",
              "          3.7730327e-01, -1.7040689e+00, -4.8634407e-01, -2.9400218e-01,\n",
              "         -5.3210717e-01, -4.1964599e-01],\n",
              "        [-2.3350576e-01,  4.6678638e-01, -7.8753732e-02, -1.0460547e+00,\n",
              "          1.2696149e+00, -1.6863962e+00,  1.3509589e+00, -6.8901010e-02,\n",
              "          9.2462921e-01,  1.8873248e+00],\n",
              "        [ 8.4447968e-01,  6.1703891e-01, -6.2423664e-01, -1.1837279e+00,\n",
              "         -1.0267524e+00,  8.1793851e-01,  1.0090790e+00, -1.7860538e-01,\n",
              "          1.8825595e+00, -7.5074530e-01],\n",
              "        [-5.0371242e-01, -2.5758662e-03, -8.9194971e-01,  3.6147147e-01,\n",
              "         -3.8766217e-01, -7.9698986e-01,  1.5998231e+00,  1.3054321e+00,\n",
              "         -3.1066296e-01,  3.7604049e-01],\n",
              "        [-1.7627342e+00,  1.9122007e-01, -1.1975195e+00, -6.9274879e-01,\n",
              "          1.4810487e+00, -7.0449203e-02,  5.9577107e-01, -2.0516284e-01,\n",
              "         -5.9885645e-01, -7.5684160e-01],\n",
              "        [-1.6909589e-01,  3.2568764e-02,  2.1198771e+00,  1.7284505e-01,\n",
              "          8.8038641e-01, -6.5398103e-01, -7.5428434e-02,  2.6748544e-01,\n",
              "         -1.0607152e+00,  1.4583982e+00]], dtype=float32),\n",
              " array([ 3.1234918e+00, -3.3553882e+00, -1.0352464e+00, -6.4134693e-01,\n",
              "         1.4963676e+00, -2.0469427e+00, -9.9351094e-04, -1.0273318e+00,\n",
              "        -1.7437673e+00, -2.8861806e+00], dtype=float32),\n",
              " array([[-1.5532012 ,  0.8012618 , -1.144262  ,  1.788159  ,  0.800934  ,\n",
              "         -0.42489964],\n",
              "        [-1.2250357 , -0.58821684,  3.439768  , -0.939867  , -0.805312  ,\n",
              "         -2.1294127 ],\n",
              "        [-0.08947451,  0.05444126, -1.2065513 ,  1.9845959 ,  0.4926708 ,\n",
              "         -2.2131486 ],\n",
              "        [ 1.1346794 , -0.66747075,  1.4085953 , -0.10209875, -0.5856195 ,\n",
              "          0.6698468 ],\n",
              "        [-0.14982396,  0.9507433 , -0.20021422,  0.5374545 ,  0.79755497,\n",
              "         -0.61897594],\n",
              "        [ 0.18629627, -1.4959837 , -0.35525525, -0.08683504,  0.6082926 ,\n",
              "          1.6849377 ],\n",
              "        [-0.8535572 , -0.59674454, -0.27691224,  0.8017323 ,  1.6809679 ,\n",
              "         -1.6838765 ],\n",
              "        [-0.5232309 , -3.055594  ,  0.71263707, -1.6517583 , -3.2013483 ,\n",
              "          0.40211228],\n",
              "        [ 1.4673578 ,  1.2421342 , -1.2437638 , -1.4212909 , -0.85052854,\n",
              "          0.8980982 ],\n",
              "        [ 1.9022635 ,  0.9182924 , -1.441047  , -0.6948272 , -2.0977087 ,\n",
              "         -1.8198007 ]], dtype=float32),\n",
              " array([-0.5508558 ,  1.3033243 , -0.33282283,  2.2583752 ,  1.286767  ,\n",
              "         0.6372695 ], dtype=float32),\n",
              " array([[-1.4229436 , -0.04475643, -0.29907572, -0.3870145 , -1.0014023 ,\n",
              "          1.2053696 ,  0.21622768],\n",
              "        [ 0.04739952, -0.02510285, -0.9524908 , -0.10962343,  1.1878018 ,\n",
              "          1.3205599 , -1.6716923 ],\n",
              "        [-0.5541029 , -1.6761285 , -0.36267212,  1.4835035 , -1.7179023 ,\n",
              "         -0.4307747 ,  1.233675  ],\n",
              "        [-0.91930723, -0.15991543, -1.1650566 , -1.9576075 ,  0.8148914 ,\n",
              "         -1.300385  , -2.440612  ],\n",
              "        [-0.74480176,  0.0363639 ,  0.02997564,  0.83887136,  1.8637911 ,\n",
              "         -1.4827837 ,  0.15688266],\n",
              "        [-0.99560297, -0.99426067,  0.06219054,  0.44358763, -0.8642064 ,\n",
              "         -0.63472384,  1.2276887 ]], dtype=float32),\n",
              " array([-1.1958053 , -0.40839952, -0.64813465,  0.3773052 ,  0.16828534,\n",
              "        -2.9622505 , -0.7514889 ], dtype=float32),\n",
              " array([[ 0.10603824,  0.51625174, -0.5543508 ,  0.16493063, -0.95165056,\n",
              "         -0.78474563,  0.3307266 ],\n",
              "        [-0.06881456, -0.13995047, -0.82987136, -0.38056612,  0.17507438,\n",
              "         -1.6903905 , -0.01876607],\n",
              "        [-0.9333952 , -0.541416  ,  0.00448231,  0.36645573, -1.2433869 ,\n",
              "          0.8643174 ,  0.31190962],\n",
              "        [-0.48478192, -2.604498  , -2.594742  ,  0.9701726 , -0.15753895,\n",
              "         -0.54556555, -1.3641545 ],\n",
              "        [ 0.9179245 ,  0.2600709 , -0.1545599 , -1.6405263 , -0.07160351,\n",
              "         -1.247635  ,  0.60700846],\n",
              "        [ 1.1860911 , -1.0022963 , -0.7668623 , -2.4090178 , -0.3642449 ,\n",
              "         -1.4475883 ,  0.07140259],\n",
              "        [-1.587615  ,  1.010334  ,  0.33083898,  1.5014491 , -0.6958118 ,\n",
              "          0.37751397,  0.93582445]], dtype=float32),\n",
              " array([-0.3119167 , -0.354121  , -1.0234622 ,  0.25530916, -0.08122148,\n",
              "        -0.4161683 ,  0.9318796 ], dtype=float32),\n",
              " array([[-1.35781378e-01,  9.90620017e-01, -1.18733123e-01,\n",
              "         -1.08989418e+00,  8.36751044e-01, -1.02925813e-03],\n",
              "        [ 1.31586671e-01,  1.17953348e+00, -1.16632164e-01,\n",
              "          1.09801781e+00, -3.01326245e-01, -1.34520662e+00],\n",
              "        [ 5.09123802e-01, -2.49098197e-01, -4.83693540e-01,\n",
              "         -8.49775299e-02, -3.76197249e-01, -9.99727249e-01],\n",
              "        [-1.14759469e+00,  7.46944726e-01, -3.19986463e-01,\n",
              "          1.31344450e+00, -5.25168121e-01, -1.01226613e-01],\n",
              "        [-2.93636769e-01,  1.04711026e-01, -5.47321141e-01,\n",
              "         -1.01403069e+00, -1.48327388e-02, -4.08460200e-01],\n",
              "        [ 6.34834588e-01, -4.38694119e-01, -5.38600266e-01,\n",
              "         -4.35869396e-02, -4.21215773e-01, -8.43220592e-01],\n",
              "        [-4.61666852e-01,  9.27093983e-01, -1.95136711e-01,\n",
              "          5.95026255e-01,  7.45947778e-01, -5.85113883e-01]], dtype=float32),\n",
              " array([-0.9118059 ,  1.3274614 , -0.4070702 , -0.09614529,  1.0820392 ,\n",
              "        -0.05688139], dtype=float32),\n",
              " array([[ 0.3369833 ],\n",
              "        [-1.6444049 ],\n",
              "        [-0.01061318],\n",
              "        [ 0.4089187 ],\n",
              "        [-0.76722735],\n",
              "        [ 0.00454789]], dtype=float32),\n",
              " array([1.29402], dtype=float32),\n",
              " array([[-0.61345065, -0.6267208 ,  1.0134196 , -0.85761684,  1.3332994 ,\n",
              "          1.5065376 ,  1.262668  ]], dtype=float32),\n",
              " array([ 0.        ,  0.6368441 , -0.20039819,  0.        , -0.14644304,\n",
              "        -0.18447836, -0.16886152], dtype=float32),\n",
              " array([[ 0.08405489,  0.5226209 , -0.4765321 ,  0.06592387, -0.438704  ,\n",
              "         -0.03720176],\n",
              "        [ 0.60924226,  1.3408096 , -0.4111688 ,  0.93322295,  0.62997824,\n",
              "          0.86005855],\n",
              "        [-0.49882466, -0.8228645 ,  1.3748723 , -0.711138  , -0.81071913,\n",
              "         -0.77717125],\n",
              "        [-0.332686  ,  0.41834688,  0.3825215 ,  0.4415555 ,  0.11081356,\n",
              "         -0.06372768],\n",
              "        [-0.70056164, -0.3243945 ,  0.50954825, -0.61802757, -0.59925777,\n",
              "         -0.5057825 ],\n",
              "        [-0.801893  , -0.680287  ,  1.171454  , -0.2508434 , -0.41767365,\n",
              "         -0.6219832 ],\n",
              "        [-1.034994  , -0.6453452 , -0.09612385, -0.818193  , -0.809554  ,\n",
              "         -0.77779853]], dtype=float32),\n",
              " array([ 1.0382636 ,  0.80980456, -0.24960549,  0.78988975,  0.8755382 ,\n",
              "         0.8717921 ], dtype=float32),\n",
              " array([[ 1.3735456],\n",
              "        [ 1.7879108],\n",
              "        [-0.956214 ],\n",
              "        [ 1.6243482],\n",
              "        [ 1.4997547],\n",
              "        [ 1.5243601]], dtype=float32),\n",
              " array([-0.8751908], dtype=float32),\n",
              " array([[ 0.9032148 , -0.5628016 , -0.43284133, -0.4588966 ,  0.76240844,\n",
              "          0.00417667,  0.6796861 ]], dtype=float32),\n",
              " array([-0.7891952 ,  0.        ,  0.        ,  0.        , -0.68119866,\n",
              "        -0.10402063, -0.5559733 ], dtype=float32),\n",
              " array([[-0.40675554, -0.63392955,  0.32782766, -0.62984705,  0.38617498,\n",
              "         -0.27644137],\n",
              "        [-0.5063843 ,  0.6327152 , -0.285726  ,  0.00824898,  0.3956406 ,\n",
              "         -0.5197049 ],\n",
              "        [-0.0534634 ,  0.28773755, -0.19545248, -0.4948544 ,  0.29501486,\n",
              "         -0.15297139],\n",
              "        [ 0.47390878, -0.0635249 ,  0.10878581, -0.5480156 , -0.14129764,\n",
              "          0.22616494],\n",
              "        [-0.7214145 ,  0.11733563,  0.44576126, -0.60417616,  0.44802096,\n",
              "         -0.12296498],\n",
              "        [-0.1852817 , -0.3369372 , -0.36087567,  0.41308415,  0.231807  ,\n",
              "         -0.03463125],\n",
              "        [ 1.0396047 , -0.12769139,  0.18817586,  0.10598343, -0.18824358,\n",
              "         -0.04616362]], dtype=float32),\n",
              " array([-0.2568857 , -0.15884854, -0.20010193, -0.15867731, -0.12795211,\n",
              "         0.        ], dtype=float32),\n",
              " array([[-0.60251373],\n",
              "        [ 0.32216534],\n",
              "        [-0.03231657],\n",
              "        [ 0.3635043 ],\n",
              "        [-0.03071928],\n",
              "        [ 0.44841564]], dtype=float32),\n",
              " array([-1.6682371], dtype=float32),\n",
              " array([[ 0.45903978,  0.34242192,  0.6036936 , -0.33881974, -0.34664398,\n",
              "         -0.5055702 , -0.6991612 ]], dtype=float32),\n",
              " array([-0.07771733, -0.05904622, -0.10164104,  0.        ,  0.        ,\n",
              "         0.        ,  0.        ], dtype=float32),\n",
              " array([[ 0.12061629, -0.01877286, -0.11498129, -0.2813211 , -0.44430926,\n",
              "          0.23966357],\n",
              "        [-0.7075145 ,  0.31625506,  0.33087242,  0.303214  , -0.22591436,\n",
              "         -0.43260998],\n",
              "        [-0.14720853,  0.07156339, -0.31513116,  0.51975983,  0.45524478,\n",
              "         -0.69394135],\n",
              "        [-0.64811975,  0.34140897,  0.12143058,  0.30204886,  0.09280145,\n",
              "          0.02471036],\n",
              "        [-0.1873922 , -0.00439548,  0.00944871,  0.11093873, -0.4237004 ,\n",
              "         -0.5343573 ],\n",
              "        [ 0.14210194,  0.25688905,  0.33319914,  0.53855264, -0.52311444,\n",
              "          0.6771333 ],\n",
              "        [ 0.17125428, -0.59872806, -0.25033027, -0.5808682 ,  0.44254947,\n",
              "         -0.33012035]], dtype=float32),\n",
              " array([-5.1636540e-05,  1.2087302e-02,  0.0000000e+00, -1.5515032e-01,\n",
              "         0.0000000e+00, -2.6590636e-01], dtype=float32),\n",
              " array([[ 5.0376853e-05],\n",
              "        [-1.5345674e-02],\n",
              "        [ 3.5877848e-01],\n",
              "        [ 4.3590727e-01],\n",
              "        [ 7.5088918e-01],\n",
              "        [ 2.1733429e-01]], dtype=float32),\n",
              " array([-1.2304394], dtype=float32)]"
            ]
          },
          "metadata": {},
          "execution_count": 83
        }
      ]
    },
    {
      "cell_type": "code",
      "source": [],
      "metadata": {
        "id": "iYz3cdZDwtgr"
      },
      "execution_count": 74,
      "outputs": []
    }
  ]
}